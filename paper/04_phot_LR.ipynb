{
 "cells": [
  {
   "cell_type": "code",
   "execution_count": 1,
   "metadata": {},
   "outputs": [
    {
     "name": "stderr",
     "output_type": "stream",
     "text": [
      "Holoviews not imported. Some visualizations will not be available.\n"
     ]
    }
   ],
   "source": [
    "import numpy as np\n",
    "import astropy\n",
    "import matplotlib.pyplot as plt\n",
    "import scipy.stats as stats\n",
    "import pandas as pd\n",
    "import glob\n",
    "import pickle\n",
    "from astropy.table import Table\n",
    "import lmfit\n",
    "from lmfit.models import VoigtModel\n",
    "from scipy.interpolate import interp1d\n",
    "from PyAstronomy import pyasl\n",
    "\n",
    "import sys\n",
    "from tqdm import tqdm\n",
    "sys.path.append('../../../wdtools/')\n",
    "sys.path.append('../../../../isochrones/')\n",
    "from astropy.io import fits\n",
    "import scipy\n",
    "#plt.style.use('vedant')\n",
    "from bisect import bisect_left\n",
    "import lmfit\n",
    "import isochrones\n",
    "import matplotlib.gridspec as gridspec\n",
    "from scipy.ndimage import gaussian_filter\n",
    "\n",
    "halpha = 6564.61\n",
    "hbeta = 4862.68\n",
    "speed_light = 299792458 # m/s\n",
    "radius_sun = 696340000 # m \n",
    "g_sun = 273.95 # m/s\n",
    "pc_to_m = 3.086e+16\n",
    "mass_sun = 1.9884e30\n",
    "newton_G = 6.674e-11\n",
    "\n",
    "na1 = 5889.6\n",
    "na2 = 5895.7\n",
    "\n",
    "mg = 5176.7\n",
    "\n",
    "ca1 = 8500.36\n",
    "ca2 = 8544.44\n",
    "ca3 = 8664.52\n",
    "ca2k = 3934.777\n",
    "ca2h = 3969.58\n",
    "\n",
    "import pyphot\n",
    "from pyphot import unit\n",
    "plt.rcParams.update({'font.size': 18})"
   ]
  },
  {
   "cell_type": "code",
   "execution_count": 2,
   "metadata": {},
   "outputs": [],
   "source": [
    "lib = pyphot.get_library()\n",
    "mean_wls = np.asarray([3596, 4639, 6122,7439,8896])\n",
    "lamgrid = np.linspace(3500, 9000, 9000 - 3500)\n",
    "abs_distance = 10 # pc"
   ]
  },
  {
   "cell_type": "markdown",
   "metadata": {},
   "source": [
    "## MPMS"
   ]
  },
  {
   "cell_type": "code",
   "execution_count": 3,
   "metadata": {},
   "outputs": [],
   "source": [
    "def logg_to_radius(logg):\n",
    "    g = 10**logg * 0.01 # to SI\n",
    "    \n",
    "    R = radius_sun * 10 ** ( - ((np.log10(g / g_sun) + 0.02) / 0.67))\n",
    "    return R\n",
    "\n",
    "interpsda = pickle.load(open('interp/interpsda.p', 'rb'))\n",
    "\n",
    "def get_sda(teff, logg, wl):\n",
    "    return 10**interpsda((logg, teff, np.log10(wl)))\n",
    "\n",
    "def get_cal_spec_mpms(teff, logg):\n",
    "    \n",
    "    mfl = get_sda(teff, logg, lamgrid)\n",
    "\n",
    "    mfl = mfl / np.pi \n",
    "\n",
    "    radius = logg_to_radius(logg) ## CHANGE THIS TO INTERPOLATE ISOCHRONE\n",
    "    distance = abs_distance * pc_to_m\n",
    "\n",
    "    solid_angle = (radius / distance) ** 2\n",
    "\n",
    "    mfl = solid_angle * mfl * 1e-8 #### ADD GP or EXTINCTION?\n",
    "    \n",
    "    return mfl\n",
    "\n",
    "def get_sdss_sed_mpms(teff, logg, to_mag = True):\n",
    "    \n",
    "    if to_mag:\n",
    "        fl = get_sda(teff, logg, lamgrid) * 1e-8\n",
    "        #fl = get_cal_spec_mpms(teff, logg)\n",
    "        wl = lamgrid * unit['AA']\n",
    "        fl = fl * unit['erg/cm**2/s/AA']\n",
    "        sed = [];\n",
    "        for band in ['u', 'g', 'r', 'i', 'z']:\n",
    "            f = lib['SDSS_' + band]\n",
    "            se = f.get_flux(wl, fl)\n",
    "            se = -2.5 * np.log10(se) - f.AB_zero_mag\n",
    "            sed.append(se)\n",
    "\n",
    "        #sed = np.asarray(sed) * mean_wls**2 * 1000 / 2.99e21 \n",
    "        #sed = -2.5 * np.log10(sed) - 48.60\n",
    "        return sed\n",
    "    \n",
    "    fl = get_cal_spec_mpms(teff, logg)\n",
    "    wl = lamgrid * unit['AA']\n",
    "    fl = fl * unit['erg/s/cm**2/AA']\n",
    "    sed = [];\n",
    "    for band in ['u', 'g', 'r', 'i', 'z']:\n",
    "        f = lib['SDSS_' + band]\n",
    "        se = f.get_flux(wl, fl)\n",
    "        sed.append(se)\n",
    "        \n",
    "    sed = np.asarray(sed)\n",
    "    \n",
    "    return sed"
   ]
  },
  {
   "cell_type": "markdown",
   "metadata": {},
   "source": [
    "## WD"
   ]
  },
  {
   "cell_type": "code",
   "execution_count": 4,
   "metadata": {},
   "outputs": [],
   "source": [
    "sys.path.append('../../../')\n",
    "import WD_models\n",
    "fontaine_model = WD_models.load_model('f', 'f', 'f', 'H')\n",
    "g_acc = (10**fontaine_model['logg'])/100\n",
    "\n",
    "rsun = np.sqrt(fontaine_model['mass_array'] * mass_sun * newton_G / g_acc) / radius_sun\n",
    "\n",
    "logg_teff_to_rsun = WD_models.interp_xy_z_func(x = fontaine_model['logg'], y = 10**fontaine_model['logteff'],\\\n",
    "                                                z = rsun, interp_type = 'linear')"
   ]
  },
  {
   "cell_type": "code",
   "execution_count": 5,
   "metadata": {},
   "outputs": [],
   "source": [
    "interpwd = pickle.load(open('interp/interpwd.p', 'rb'))\n",
    "def get_wd(teff, logg, wl):\n",
    "    return 10**interpwd((logg, teff, np.log10(wl)))"
   ]
  },
  {
   "cell_type": "code",
   "execution_count": 6,
   "metadata": {},
   "outputs": [],
   "source": [
    "abs_distance = 10\n",
    "def get_cal_spec_wd(teff, logg):\n",
    "    \n",
    "    mfl = get_wd(teff, logg, lamgrid)\n",
    "\n",
    "    radius = logg_teff_to_rsun(logg, teff) * radius_sun\n",
    "    distance = abs_distance * pc_to_m\n",
    "\n",
    "    solid_angle = 4 * np.pi * (radius / distance) ** 2\n",
    "\n",
    "    mfl = solid_angle * mfl            #### ADD GP or EXTINCTION?\n",
    "    mfl = 2.99e21 * (mfl/1000) * (1 /lamgrid**2)\n",
    "    \n",
    "    return mfl"
   ]
  },
  {
   "cell_type": "code",
   "execution_count": 7,
   "metadata": {},
   "outputs": [],
   "source": [
    "def get_sdss_sed_wd(teff, logg, to_mag = True):\n",
    "    fl = get_cal_spec_wd(teff, logg)\n",
    "    if to_mag:\n",
    "        fl = get_wd(teff, logg, lamgrid)\n",
    "    wl = lamgrid * unit['AA']\n",
    "    fl = fl * unit['erg/s/cm**2/Hz']\n",
    "    sed = [];\n",
    "    for band in ['u', 'g', 'r', 'i', 'z']:\n",
    "        f = lib['SDSS_' + band]\n",
    "        se = f.get_flux(wl, fl)\n",
    "        sed.append(se)\n",
    "    sed = np.asarray(sed)\n",
    "    if to_mag:\n",
    "        sed = -2.5 * np.log10(sed) - 48.60\n",
    "    return sed"
   ]
  },
  {
   "cell_type": "markdown",
   "metadata": {},
   "source": [
    "## Generate SEDS and Colors"
   ]
  },
  {
   "cell_type": "code",
   "execution_count": 8,
   "metadata": {},
   "outputs": [],
   "source": [
    "import itertools"
   ]
  },
  {
   "cell_type": "code",
   "execution_count": 22,
   "metadata": {},
   "outputs": [],
   "source": [
    "n_teff = 25\n",
    "n_logg = 5\n",
    "n_models = n_teff * n_logg\n",
    "\n",
    "teffs = np.linspace(3000, 5000, n_teff)\n",
    "wd_loggs = np.linspace(7.05, 9, n_logg)\n",
    "mpms_loggs = np.linspace(3.5, 5.5, n_logg)"
   ]
  },
  {
   "cell_type": "code",
   "execution_count": 23,
   "metadata": {},
   "outputs": [],
   "source": [
    "wd_param_grid = np.array(list(itertools.product(teffs, wd_loggs)))\n",
    "mpms_param_grid = np.array(list(itertools.product(teffs, mpms_loggs)))"
   ]
  },
  {
   "cell_type": "code",
   "execution_count": 24,
   "metadata": {},
   "outputs": [],
   "source": [
    "wd_seds = np.asarray([get_sdss_sed_wd(teff, logg, True) for teff,logg in wd_param_grid])\n",
    "mpms_seds = np.asarray([get_sdss_sed_mpms(teff, logg, True) for teff, logg in mpms_param_grid])"
   ]
  },
  {
   "cell_type": "code",
   "execution_count": 25,
   "metadata": {},
   "outputs": [],
   "source": [
    "wd_colors = np.diff(wd_seds, axis = 1)\n",
    "mpms_colors = np.diff(mpms_seds, axis = 1)"
   ]
  },
  {
   "cell_type": "code",
   "execution_count": 26,
   "metadata": {},
   "outputs": [
    {
     "data": {
      "image/png": "[encoded data removed]",
      "text/plain": [
       "<Figure size 432x288 with 1 Axes>"
      ]
     },
     "metadata": {
      "needs_background": "light"
     },
     "output_type": "display_data"
    }
   ],
   "source": [
    "plt.plot(wd_colors.T[2:,:], color = 'C0');\n",
    "plt.plot(mpms_colors.T[2:,:], color = 'C1', alpha = 0.1);"
   ]
  },
  {
   "cell_type": "code",
   "execution_count": 13,
   "metadata": {},
   "outputs": [
    {
     "data": {
      "text/plain": [
       "500"
      ]
     },
     "execution_count": 13,
     "metadata": {},
     "output_type": "execute_result"
    }
   ],
   "source": [
    "len(wd_colors)"
   ]
  },
  {
   "cell_type": "code",
   "execution_count": null,
   "metadata": {},
   "outputs": [],
   "source": [
    "balmer_features = np.loadtxt('tables/balmer_features.txt')"
   ]
  },
  {
   "cell_type": "markdown",
   "metadata": {},
   "source": [
    "## LR"
   ]
  },
  {
   "cell_type": "code",
   "execution_count": null,
   "metadata": {},
   "outputs": [],
   "source": [
    "from sklearn.linear_model import LogisticRegression\n",
    "from sklearn.model_selection import train_test_split\n",
    "from sklearn.metrics import roc_curve, auc"
   ]
  },
  {
   "cell_type": "code",
   "execution_count": null,
   "metadata": {},
   "outputs": [],
   "source": [
    "X = np.vstack((wd_colors, mpms_colors))\n",
    "\n",
    "t = np.zeros(len(X))\n",
    "t[len(wd_colors):] = 1"
   ]
  },
  {
   "cell_type": "code",
   "execution_count": null,
   "metadata": {},
   "outputs": [],
   "source": [
    "X_train, X_test, y_train, y_test = train_test_split(X, t, test_size = 0.05)"
   ]
  },
  {
   "cell_type": "code",
   "execution_count": null,
   "metadata": {},
   "outputs": [],
   "source": [
    "lr = LogisticRegression(penalty = 'l2', solver = 'saga', max_iter = 10000, tol = 1e-8)"
   ]
  },
  {
   "cell_type": "code",
   "execution_count": null,
   "metadata": {},
   "outputs": [],
   "source": [
    "lr.fit(X_train, y_train)"
   ]
  },
  {
   "cell_type": "code",
   "execution_count": null,
   "metadata": {},
   "outputs": [],
   "source": [
    "lr.score(X_test, y_test)"
   ]
  },
  {
   "cell_type": "code",
   "execution_count": null,
   "metadata": {},
   "outputs": [],
   "source": [
    "pickle.dump(lr, open('LR/phot_lr.p', 'wb'))"
   ]
  },
  {
   "cell_type": "markdown",
   "metadata": {},
   "source": [
    "## griz only"
   ]
  },
  {
   "cell_type": "code",
   "execution_count": null,
   "metadata": {},
   "outputs": [],
   "source": [
    "X = np.vstack((wd_colors, mpms_colors))\n",
    "X = X[:, 1:]\n",
    "t = np.zeros(len(X))\n",
    "t[len(wd_colors):] = 1"
   ]
  },
  {
   "cell_type": "code",
   "execution_count": null,
   "metadata": {},
   "outputs": [],
   "source": [
    "X_train, X_test, y_train, y_test = train_test_split(X, t, test_size = 0.05)"
   ]
  },
  {
   "cell_type": "code",
   "execution_count": null,
   "metadata": {},
   "outputs": [],
   "source": [
    "lr = LogisticRegression(penalty = 'l2', max_iter = 10000, tol = 1e-8)"
   ]
  },
  {
   "cell_type": "code",
   "execution_count": null,
   "metadata": {},
   "outputs": [],
   "source": [
    "lr.fit(X_train, y_train)"
   ]
  },
  {
   "cell_type": "code",
   "execution_count": null,
   "metadata": {},
   "outputs": [],
   "source": [
    "lr.score(X_test, y_test)"
   ]
  },
  {
   "cell_type": "code",
   "execution_count": null,
   "metadata": {},
   "outputs": [],
   "source": [
    "pickle.dump(lr, open('LR/phot_lr_griz.p', 'wb'))"
   ]
  },
  {
   "cell_type": "markdown",
   "metadata": {},
   "source": [
    "## Combined with Balmer"
   ]
  },
  {
   "cell_type": "code",
   "execution_count": null,
   "metadata": {},
   "outputs": [],
   "source": [
    "X = np.vstack((wd_colors, mpms_colors))\n",
    "X = np.hstack((X, balmer_features))\n",
    "t = np.zeros(len(X))\n",
    "t[len(wd_colors):] = 1"
   ]
  },
  {
   "cell_type": "code",
   "execution_count": null,
   "metadata": {},
   "outputs": [],
   "source": [
    "X_train, X_test, y_train, y_test = train_test_split(X, t, test_size = 0.05)"
   ]
  },
  {
   "cell_type": "code",
   "execution_count": null,
   "metadata": {},
   "outputs": [],
   "source": [
    "lr = LogisticRegression(penalty = 'l2', max_iter = 10000, tol = 1e-8)"
   ]
  },
  {
   "cell_type": "code",
   "execution_count": null,
   "metadata": {},
   "outputs": [],
   "source": [
    "lr.fit(X_train, y_train)"
   ]
  },
  {
   "cell_type": "code",
   "execution_count": null,
   "metadata": {},
   "outputs": [],
   "source": [
    "lr.score(X_test, y_test)"
   ]
  },
  {
   "cell_type": "code",
   "execution_count": null,
   "metadata": {},
   "outputs": [],
   "source": [
    "pickle.dump(lr, open('LR/combined.p', 'wb'))"
   ]
  },
  {
   "cell_type": "markdown",
   "metadata": {},
   "source": [
    "## Write Training Grid"
   ]
  },
  {
   "cell_type": "code",
   "execution_count": null,
   "metadata": {},
   "outputs": [],
   "source": [
    "features = ['ug', 'gr', 'ri', 'iz', 'a_fwhm', 'a_height',\n",
    "                                               'b_fwhm', 'b_height',\n",
    "                                               'g_fwhm', 'g_height',\n",
    "                                               'd_fwhm', 'd_height']"
   ]
  },
  {
   "cell_type": "code",
   "execution_count": null,
   "metadata": {},
   "outputs": [],
   "source": [
    "df = pd.DataFrame(X, columns = features)"
   ]
  },
  {
   "cell_type": "code",
   "execution_count": null,
   "metadata": {},
   "outputs": [],
   "source": [
    "df['is_mpms'] = t.astype(int)"
   ]
  },
  {
   "cell_type": "code",
   "execution_count": null,
   "metadata": {},
   "outputs": [],
   "source": [
    "df.to_csv('../training_grid.csv')"
   ]
  },
  {
   "cell_type": "code",
   "execution_count": null,
   "metadata": {},
   "outputs": [],
   "source": []
  }
 ],
 "metadata": {
  "kernelspec": {
   "display_name": "Python [conda env:metalpoor] *",
   "language": "python",
   "name": "conda-env-metalpoor-py"
  },
  "language_info": {
   "codemirror_mode": {
    "name": "ipython",
    "version": 3
   },
   "file_extension": ".py",
   "mimetype": "text/x-python",
   "name": "python",
   "nbconvert_exporter": "python",
   "pygments_lexer": "ipython3",
   "version": "3.6.10"
  }
 },
 "nbformat": 4,
 "nbformat_minor": 4
}
