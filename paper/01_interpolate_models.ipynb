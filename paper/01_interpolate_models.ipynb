{
 "cells": [
  {
   "cell_type": "code",
   "execution_count": 1,
   "metadata": {},
   "outputs": [
    {
     "name": "stderr",
     "output_type": "stream",
     "text": [
      "Holoviews not imported. Some visualizations will not be available.\n",
      "Using TensorFlow backend.\n",
      "/Users/vedantchandra/opt/anaconda3/envs/metalpoor/lib/python3.6/site-packages/tensorflow/python/framework/dtypes.py:526: FutureWarning: Passing (type, 1) or '1type' as a synonym of type is deprecated; in a future version of numpy, it will be understood as (type, (1,)) / '(1,)type'.\n",
      "  _np_qint8 = np.dtype([(\"qint8\", np.int8, 1)])\n",
      "/Users/vedantchandra/opt/anaconda3/envs/metalpoor/lib/python3.6/site-packages/tensorflow/python/framework/dtypes.py:527: FutureWarning: Passing (type, 1) or '1type' as a synonym of type is deprecated; in a future version of numpy, it will be understood as (type, (1,)) / '(1,)type'.\n",
      "  _np_quint8 = np.dtype([(\"quint8\", np.uint8, 1)])\n",
      "/Users/vedantchandra/opt/anaconda3/envs/metalpoor/lib/python3.6/site-packages/tensorflow/python/framework/dtypes.py:528: FutureWarning: Passing (type, 1) or '1type' as a synonym of type is deprecated; in a future version of numpy, it will be understood as (type, (1,)) / '(1,)type'.\n",
      "  _np_qint16 = np.dtype([(\"qint16\", np.int16, 1)])\n",
      "/Users/vedantchandra/opt/anaconda3/envs/metalpoor/lib/python3.6/site-packages/tensorflow/python/framework/dtypes.py:529: FutureWarning: Passing (type, 1) or '1type' as a synonym of type is deprecated; in a future version of numpy, it will be understood as (type, (1,)) / '(1,)type'.\n",
      "  _np_quint16 = np.dtype([(\"quint16\", np.uint16, 1)])\n",
      "/Users/vedantchandra/opt/anaconda3/envs/metalpoor/lib/python3.6/site-packages/tensorflow/python/framework/dtypes.py:530: FutureWarning: Passing (type, 1) or '1type' as a synonym of type is deprecated; in a future version of numpy, it will be understood as (type, (1,)) / '(1,)type'.\n",
      "  _np_qint32 = np.dtype([(\"qint32\", np.int32, 1)])\n",
      "/Users/vedantchandra/opt/anaconda3/envs/metalpoor/lib/python3.6/site-packages/tensorflow/python/framework/dtypes.py:535: FutureWarning: Passing (type, 1) or '1type' as a synonym of type is deprecated; in a future version of numpy, it will be understood as (type, (1,)) / '(1,)type'.\n",
      "  np_resource = np.dtype([(\"resource\", np.ubyte, 1)])\n"
     ]
    }
   ],
   "source": [
    "import numpy as np\n",
    "import astropy\n",
    "import matplotlib.pyplot as plt\n",
    "import scipy.stats as stats\n",
    "import pandas as pd\n",
    "import glob\n",
    "import pickle\n",
    "from astropy.table import Table\n",
    "import lmfit\n",
    "from lmfit.models import VoigtModel\n",
    "from scipy.interpolate import interp1d\n",
    "from PyAstronomy import pyasl\n",
    "\n",
    "import sys\n",
    "from tqdm import tqdm\n",
    "sys.path.append('../../../wdtools/')\n",
    "sys.path.append('../../../../isochrones/')\n",
    "from astropy.io import fits\n",
    "import scipy\n",
    "#plt.style.use('vedant')\n",
    "from bisect import bisect_left\n",
    "import lmfit\n",
    "import isochrones\n",
    "import wdtools\n",
    "import matplotlib.gridspec as gridspec\n",
    "sp = wdtools.SpecTools()\n",
    "from scipy.ndimage import gaussian_filter\n",
    "\n",
    "halpha = 6564.61\n",
    "hbeta = 4862.68\n",
    "speed_light = 299792458 # m/s\n",
    "radius_sun = 696340000 # m \n",
    "g_sun = 273.95 # m/s\n",
    "pc_to_m = 3.086e+16\n",
    "mass_sun = 1.9884e30\n",
    "newton_G = 6.674e-11\n",
    "\n",
    "na1 = 5889.6\n",
    "na2 = 5895.7\n",
    "\n",
    "mg = 5176.7\n",
    "\n",
    "ca1 = 8500.36\n",
    "ca2 = 8544.44\n",
    "ca3 = 8664.52\n",
    "ca2k = 3934.777\n",
    "ca2h = 3969.58\n",
    "\n",
    "from scipy.interpolate import RegularGridInterpolator as rgi\n",
    "from scipy.interpolate import LinearNDInterpolator as lndi"
   ]
  },
  {
   "cell_type": "markdown",
   "metadata": {},
   "source": [
    "## Build sdA Interpolator"
   ]
  },
  {
   "cell_type": "code",
   "execution_count": 2,
   "metadata": {},
   "outputs": [],
   "source": [
    "with fits.open('../../WAVE_PHOENIX-ACES-AGSS-COND-2011.fits') as f:\n",
    "    phx_wav = f[0].data"
   ]
  },
  {
   "cell_type": "code",
   "execution_count": 64,
   "metadata": {},
   "outputs": [],
   "source": [
    "def get_spectrum(source_id):\n",
    "    path = '../../spec/'+str(source_id)+'_spec_0.fits'\n",
    "    try:\n",
    "        with fits.open(path) as f:\n",
    "            flux = f[1].data['flux']\n",
    "            loglam = f[1].data['loglam']\n",
    "            fluxsig = f[1].data['ivar']\n",
    "            lam = 10**loglam\n",
    "            f.close()\n",
    "    except:\n",
    "        #raise FileNotFoundError('Spectrum file missing...')\n",
    "        return np.nan, np.nan\n",
    "    ## RV Correction and Interpolation\n",
    "    \n",
    "    return lam, flux\n",
    "\n",
    "def find_nearest(array, value):\n",
    "    array = np.asarray(array)\n",
    "    idx = (np.abs(array - value)).argmin()\n",
    "    return array[idx]\n",
    "\n",
    "n_points = 10000\n",
    "lamgrid = np.linspace(3100, 11500, n_points)\n",
    "\n",
    "def get_sda(teff, logg, alpha = 0):\n",
    "    \n",
    "    alpha = str(alpha).replace('-', 'm')\n",
    "    \n",
    "    sda_files = np.array(glob.glob('../../phoenix/'+ alpha + '/*'))\n",
    "\n",
    "    sda_teffs = np.array([int(sda_files[ii].split('-')[0][-5:]) for ii in range(len(sda_files))])\n",
    "    sda_loggs = np.array([float(sda_files[ii].split('-')[1]) for ii in range(len(sda_files))])\n",
    "    \n",
    "    \n",
    "    selection = (sda_teffs == teff) * (sda_loggs == logg)\n",
    "    if np.sum(selection) != 1:\n",
    "        print('finding nearest')\n",
    "        teff = find_nearest(sda_teffs, teff)\n",
    "        logg = find_nearest(sda_loggs[sda_teffs == teff], logg)\n",
    "        logg = find_nearest(sda_loggs, logg)\n",
    "        selection = (sda_teffs == teff) * (sda_loggs == logg)\n",
    "    \n",
    "    file = sda_files[selection][0]\n",
    "    \n",
    "    if alpha == '0':\n",
    "        wl = np.linspace(3000, 10000, 70000) ## DONT CHANGE THIS! \n",
    "    elif alpha == 'm0.4':\n",
    "        wl = phx_wav\n",
    "        \n",
    "    with fits.open(file) as f:\n",
    "        fl = f[0].data\n",
    "        \n",
    "    \n",
    "    func = interp1d(wl, fl, fill_value = 'extrapolate', kind = 'previous')\n",
    "    fl = func(lamgrid)\n",
    "    wl = lamgrid\n",
    "    \n",
    "    resolution = 0 #angstrom\n",
    "    \n",
    "    ang_in_wl = wl[1] - wl[0]\n",
    "    filt = resolution / ang_in_wl\n",
    "    \n",
    "    fl = gaussian_filter(fl, int(filt))\n",
    "        \n",
    "    return wl, fl"
   ]
  },
  {
   "cell_type": "code",
   "execution_count": 65,
   "metadata": {},
   "outputs": [],
   "source": [
    "alpha = '0'\n",
    "sda_files = np.array(glob.glob('../../phoenix/'+ alpha + '/*'))\n",
    "\n",
    "sda_teffs = np.array([int(sda_files[ii].split('-')[0][-5:]) for ii in range(len(sda_files))])\n",
    "sda_loggs = np.array([float(sda_files[ii].split('-')[1]) for ii in range(len(sda_files))])\n",
    "\n",
    "sda_teffs = sda_teffs[sda_loggs >= 2]\n",
    "sda_loggs = sda_loggs[sda_loggs >= 2]\n",
    "\n",
    "#plt.scatter(sda_teffs, sda_loggs)"
   ]
  },
  {
   "cell_type": "code",
   "execution_count": 66,
   "metadata": {},
   "outputs": [],
   "source": [
    "teffs = np.sort(sda_teffs[sda_loggs == 4.5])\n",
    "loggs = np.sort(sda_loggs[sda_teffs == 4000])"
   ]
  },
  {
   "cell_type": "code",
   "execution_count": 67,
   "metadata": {},
   "outputs": [],
   "source": [
    "X, Y, Z = np.meshgrid(teffs, loggs, np.log10(lamgrid))\n",
    "\n",
    "vals = np.zeros(X.shape)"
   ]
  },
  {
   "cell_type": "code",
   "execution_count": 68,
   "metadata": {},
   "outputs": [
    {
     "name": "stdout",
     "output_type": "stream",
     "text": [
      "finding nearest\n",
      "finding nearest\n",
      "finding nearest\n",
      "finding nearest\n",
      "finding nearest\n",
      "finding nearest\n",
      "finding nearest\n",
      "finding nearest\n",
      "finding nearest\n",
      "finding nearest\n",
      "finding nearest\n",
      "finding nearest\n",
      "finding nearest\n",
      "finding nearest\n",
      "finding nearest\n",
      "finding nearest\n",
      "finding nearest\n",
      "finding nearest\n",
      "finding nearest\n",
      "finding nearest\n"
     ]
    }
   ],
   "source": [
    "for ii in range(vals.shape[0]):\n",
    "    for jj in range(vals.shape[1]):\n",
    "        wl, fl =  get_sda(X[ii, jj, 0], Y[ii, jj, 0])\n",
    "        for kk in range(vals.shape[2]):\n",
    "            vals[ii, jj, kk] = np.log10(fl[kk])"
   ]
  },
  {
   "cell_type": "code",
   "execution_count": 69,
   "metadata": {
    "scrolled": false
   },
   "outputs": [],
   "source": [
    "interpsda = rgi(points = [loggs, teffs, np.log10(lamgrid)], values = vals)\n",
    "\n",
    "pickle.dump(interpsda, open('interp/interpsda.p', 'wb'))"
   ]
  },
  {
   "cell_type": "code",
   "execution_count": 70,
   "metadata": {},
   "outputs": [],
   "source": [
    "def interp_sda(teff, logg, wl):\n",
    "    return 10**interpsda((logg, teff, np.log10(wl)))"
   ]
  },
  {
   "cell_type": "code",
   "execution_count": 71,
   "metadata": {},
   "outputs": [
    {
     "data": {
      "text/plain": [
       "[<matplotlib.lines.Line2D at 0x7f8b36fc2a58>]"
      ]
     },
     "execution_count": 71,
     "metadata": {},
     "output_type": "execute_result"
    },
    {
     "data": {
      "image/png": "[encoded data removed]",
      "text/plain": [
       "<Figure size 432x288 with 1 Axes>"
      ]
     },
     "metadata": {
      "needs_background": "light"
     },
     "output_type": "display_data"
    }
   ],
   "source": [
    "plt.plot(lamgrid, interp_sda(8000, 5.0, lamgrid))"
   ]
  },
  {
   "cell_type": "markdown",
   "metadata": {},
   "source": [
    "## Build WD Interpolator"
   ]
  },
  {
   "cell_type": "code",
   "execution_count": 25,
   "metadata": {},
   "outputs": [],
   "source": [
    "sys.path.append('../../../')\n",
    "import WD_models\n",
    "fontaine_model = WD_models.load_model('f', 'f', 'f', 'H')\n",
    "g_acc = (10**fontaine_model['logg'])/100\n",
    "\n",
    "rsun = np.sqrt(fontaine_model['mass_array'] * mass_sun * newton_G / g_acc) / radius_sun\n",
    "\n",
    "logg_teff_to_rsun = WD_models.interp_xy_z_func(x = fontaine_model['logg'], y = 10**fontaine_model['logteff'],\\\n",
    "                                                z = rsun, interp_type = 'linear')"
   ]
  },
  {
   "cell_type": "markdown",
   "metadata": {},
   "source": [
    "### Cool Models (Blouin et al. 2020)"
   ]
  },
  {
   "cell_type": "code",
   "execution_count": 3,
   "metadata": {},
   "outputs": [
    {
     "name": "stderr",
     "output_type": "stream",
     "text": [
      "100%|██████████| 11/11 [00:26<00:00,  2.45s/it]\n"
     ]
    }
   ],
   "source": [
    "wd_files = glob.glob('../../blouin/*')\n",
    "\n",
    "wd_fls = [];\n",
    "wd_teffs = [];\n",
    "wd_loggs = [];\n",
    "wd_wls = [];\n",
    "\n",
    "for filename in tqdm(wd_files):\n",
    "    logg = int(filename.split('/')[3][:3])/100\n",
    "\n",
    "    f = open(filename)\n",
    "\n",
    "    lines = f.readlines()\n",
    "\n",
    "    wl = [];\n",
    "    for line in lines[1:406]:\n",
    "        wl_seg = [float(jj) for jj in line.split()]\n",
    "        wl.extend(wl_seg)\n",
    "\n",
    "    wl = np.asarray(wl)[24:]\n",
    "\n",
    "    for line in (lines[406:]):\n",
    "        idx = lines.index(line) + 5\n",
    "        if line.split()[0] == 'Effective':\n",
    "            teff = float(line.split()[3])\n",
    "            fl = [];\n",
    "            for subline in lines[idx:(idx+670)]:\n",
    "                fl_seg = [float(jj) for jj in subline.split()]\n",
    "                fl.extend(fl_seg)\n",
    "\n",
    "            fl = np.asarray(fl)\n",
    "            wd_fls.append(fl)\n",
    "            wd_teffs.append(teff)\n",
    "            wd_loggs.append(logg)\n",
    "            wd_wls.append(wl)\n",
    "\n",
    "wd_fls = np.asarray(wd_fls)\n",
    "wd_wls = np.asarray(wd_wls)\n",
    "wd_loggs = np.asarray(wd_loggs)\n",
    "wd_teffs = np.asarray(wd_teffs)"
   ]
  },
  {
   "cell_type": "code",
   "execution_count": 8,
   "metadata": {},
   "outputs": [
    {
     "data": {
      "text/plain": [
       "[<matplotlib.lines.Line2D at 0x7fd476166d68>]"
      ]
     },
     "execution_count": 8,
     "metadata": {},
     "output_type": "execute_result"
    },
    {
     "data": {
      "image/png": "[encoded data removed]",
      "text/plain": [
       "<Figure size 432x288 with 1 Axes>"
      ]
     },
     "metadata": {
      "needs_background": "light"
     },
     "output_type": "display_data"
    }
   ],
   "source": [
    "plt.plot(wd_wls[0], wd_fls[0])"
   ]
  },
  {
   "cell_type": "code",
   "execution_count": 37,
   "metadata": {},
   "outputs": [],
   "source": [
    "n_points = 10000\n",
    "lamgrid = np.linspace(2000, 250000, n_points)\n",
    "\n",
    "def get_wd(teff, logg):\n",
    "    \n",
    "    idx = (wd_teffs == teff) * (wd_loggs == logg)\n",
    "    \n",
    "    if np.sum(idx) != 1:\n",
    "        print('not found')\n",
    "        return None\n",
    "\n",
    "    wl = wd_wls[idx][0]\n",
    "    \n",
    "    fl = wd_fls[idx][0]\n",
    "    \n",
    "    func = interp1d(wl, fl)\n",
    "    fl = func(lamgrid)\n",
    "    wl = lamgrid\n",
    "    \n",
    "    #fl = fl * speed_light / (wl)**2\n",
    "    \n",
    "    return wl, fl "
   ]
  },
  {
   "cell_type": "code",
   "execution_count": 38,
   "metadata": {},
   "outputs": [
    {
     "data": {
      "text/plain": [
       "<matplotlib.collections.PathCollection at 0x7fd466025f60>"
      ]
     },
     "execution_count": 38,
     "metadata": {},
     "output_type": "execute_result"
    },
    {
     "data": {
      "image/png": "[encoded data removed]",
      "text/plain": [
       "<Figure size 432x288 with 1 Axes>"
      ]
     },
     "metadata": {
      "needs_background": "light"
     },
     "output_type": "display_data"
    }
   ],
   "source": [
    "plt.scatter(wd_teffs, wd_loggs)"
   ]
  },
  {
   "cell_type": "code",
   "execution_count": 39,
   "metadata": {},
   "outputs": [],
   "source": [
    "teffs = np.sort(wd_teffs[wd_loggs == 8])\n",
    "loggs = np.sort(wd_loggs[wd_teffs == 4000])"
   ]
  },
  {
   "cell_type": "code",
   "execution_count": 40,
   "metadata": {},
   "outputs": [],
   "source": [
    "X, Y, Z = np.meshgrid(teffs, loggs, np.log10(lamgrid))\n",
    "\n",
    "vals = np.zeros(X.shape)"
   ]
  },
  {
   "cell_type": "code",
   "execution_count": 41,
   "metadata": {},
   "outputs": [],
   "source": [
    "for ii in range(vals.shape[0]):\n",
    "    for jj in range(vals.shape[1]):\n",
    "        wl, fl =  get_wd(X[ii, jj, 0], Y[ii, jj, 0])\n",
    "        for kk in range(vals.shape[2]):\n",
    "            vals[ii, jj, kk] = np.log10(fl[kk])"
   ]
  },
  {
   "cell_type": "raw",
   "metadata": {},
   "source": [
    "interpwd = rgi(points = [loggs, teffs, np.log10(lamgrid)], values = vals)\n",
    "\n",
    "pickle.dump(interpwd, open('interp/interpwd.p', 'wb'))"
   ]
  },
  {
   "cell_type": "code",
   "execution_count": 42,
   "metadata": {},
   "outputs": [],
   "source": [
    "interpwd = rgi(points = [loggs, teffs, np.log10(lamgrid)], values = vals)"
   ]
  },
  {
   "cell_type": "code",
   "execution_count": 43,
   "metadata": {},
   "outputs": [
    {
     "data": {
      "text/plain": [
       "[<matplotlib.lines.Line2D at 0x7fd4664060b8>]"
      ]
     },
     "execution_count": 43,
     "metadata": {},
     "output_type": "execute_result"
    },
    {
     "data": {
      "image/png": "[encoded data removed]",
      "text/plain": [
       "<Figure size 432x288 with 1 Axes>"
      ]
     },
     "metadata": {
      "needs_background": "light"
     },
     "output_type": "display_data"
    }
   ],
   "source": [
    "plt.plot(lamgrid, 10**interpwd((8.5, 5000, np.log10(lamgrid))))"
   ]
  },
  {
   "cell_type": "code",
   "execution_count": 44,
   "metadata": {},
   "outputs": [],
   "source": [
    "pickle.dump(interpwd, open('../../../09_gemini_wd/shen_d62/wd_interp.pkl', 'wb'))"
   ]
  },
  {
   "cell_type": "code",
   "execution_count": null,
   "metadata": {},
   "outputs": [],
   "source": []
  }
 ],
 "metadata": {
  "kernelspec": {
   "display_name": "Python [conda env:metalpoor]",
   "language": "python",
   "name": "conda-env-metalpoor-py"
  },
  "language_info": {
   "codemirror_mode": {
    "name": "ipython",
    "version": 3
   },
   "file_extension": ".py",
   "mimetype": "text/x-python",
   "name": "python",
   "nbconvert_exporter": "python",
   "pygments_lexer": "ipython3",
   "version": "3.6.10"
  }
 },
 "nbformat": 4,
 "nbformat_minor": 4
}
