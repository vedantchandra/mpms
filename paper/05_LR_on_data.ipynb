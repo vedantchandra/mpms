{
 "cells": [
  {
   "cell_type": "code",
   "execution_count": 1,
   "metadata": {},
   "outputs": [
    {
     "name": "stderr",
     "output_type": "stream",
     "text": [
      "Using TensorFlow backend.\n",
      "/Users/vedantchandra/opt/anaconda3/envs/metalpoor/lib/python3.6/site-packages/tensorflow/python/framework/dtypes.py:526: FutureWarning: Passing (type, 1) or '1type' as a synonym of type is deprecated; in a future version of numpy, it will be understood as (type, (1,)) / '(1,)type'.\n",
      "  _np_qint8 = np.dtype([(\"qint8\", np.int8, 1)])\n",
      "/Users/vedantchandra/opt/anaconda3/envs/metalpoor/lib/python3.6/site-packages/tensorflow/python/framework/dtypes.py:527: FutureWarning: Passing (type, 1) or '1type' as a synonym of type is deprecated; in a future version of numpy, it will be understood as (type, (1,)) / '(1,)type'.\n",
      "  _np_quint8 = np.dtype([(\"quint8\", np.uint8, 1)])\n",
      "/Users/vedantchandra/opt/anaconda3/envs/metalpoor/lib/python3.6/site-packages/tensorflow/python/framework/dtypes.py:528: FutureWarning: Passing (type, 1) or '1type' as a synonym of type is deprecated; in a future version of numpy, it will be understood as (type, (1,)) / '(1,)type'.\n",
      "  _np_qint16 = np.dtype([(\"qint16\", np.int16, 1)])\n",
      "/Users/vedantchandra/opt/anaconda3/envs/metalpoor/lib/python3.6/site-packages/tensorflow/python/framework/dtypes.py:529: FutureWarning: Passing (type, 1) or '1type' as a synonym of type is deprecated; in a future version of numpy, it will be understood as (type, (1,)) / '(1,)type'.\n",
      "  _np_quint16 = np.dtype([(\"quint16\", np.uint16, 1)])\n",
      "/Users/vedantchandra/opt/anaconda3/envs/metalpoor/lib/python3.6/site-packages/tensorflow/python/framework/dtypes.py:530: FutureWarning: Passing (type, 1) or '1type' as a synonym of type is deprecated; in a future version of numpy, it will be understood as (type, (1,)) / '(1,)type'.\n",
      "  _np_qint32 = np.dtype([(\"qint32\", np.int32, 1)])\n",
      "/Users/vedantchandra/opt/anaconda3/envs/metalpoor/lib/python3.6/site-packages/tensorflow/python/framework/dtypes.py:535: FutureWarning: Passing (type, 1) or '1type' as a synonym of type is deprecated; in a future version of numpy, it will be understood as (type, (1,)) / '(1,)type'.\n",
      "  np_resource = np.dtype([(\"resource\", np.ubyte, 1)])\n"
     ]
    }
   ],
   "source": [
    "import numpy as np\n",
    "\n",
    "import matplotlib.pyplot as plt\n",
    "from astropy.io import fits\n",
    "import pandas as pd\n",
    "#from astroquery.simbad import Simbad\n",
    "from tqdm import tqdm\n",
    "from astropy.coordinates import SkyCoord\n",
    "#from astroquery.gaia import Gaia\n",
    "import astropy.units as u\n",
    "import astropy\n",
    "from astropy.table import Table\n",
    "from bisect import bisect_left\n",
    "import sys\n",
    "\n",
    "from PyAstronomy import pyasl\n",
    "\n",
    "halpha = 6564.61\n",
    "speed_light = 299792458\n",
    "\n",
    "import lmfit\n",
    "from scipy.interpolate import interp1d\n",
    "sys.path.append('../../../wdtools/')\n",
    "import wdtools\n",
    "sys.path.append('../../../')\n",
    "import WD_models\n",
    "import pickle\n",
    "\n",
    "import matplotlib\n",
    "from matplotlib.collections import LineCollection\n",
    "from matplotlib.lines import Line2D\n",
    "\n",
    "plt.rcParams.update({'font.size': 18})"
   ]
  },
  {
   "cell_type": "markdown",
   "metadata": {},
   "source": [
    "# Skip down to 'Load Data' unless you want to de-redden and fit Balmer parameters again"
   ]
  },
  {
   "cell_type": "markdown",
   "metadata": {},
   "source": [
    "#### Plot CMD"
   ]
  },
  {
   "cell_type": "raw",
   "metadata": {},
   "source": [
    "table = Table.read('tables/old_xmatch.fits')\n",
    "\n",
    "table['g_abs'] = table['g'] + 5 * (np.log10(table['parallax'] / 1000) + 1)\n",
    "table['g-r'] = table['g'] - table['r']\n",
    "\n",
    "clean = (\n",
    "    (table['g-r'] < 2.5)*\n",
    "    (table['g-r'] > -1)*\n",
    "    (table['g_abs'] < 18)*\n",
    "    (table['g_abs'] > -5)*\n",
    "    (table['g-r'] != 0)\n",
    ")\n",
    "\n",
    "goodpar = (\n",
    "    (table['parallax_over_error'] > 10)\n",
    ")\n",
    "\n",
    "plt.figure(figsize = (12, 10))\n",
    "\n",
    "plt.scatter(table['g-r'][clean], table['g_abs'][clean], s = 10, alpha = 0.1, color = 'gray')\n",
    "\n",
    "#plt.scatter(table['g-r'][clean*goodpar], table['g_abs'][clean*goodpar], s = 10, alpha = 0.1, color = 'C2',\n",
    "#           label = 'Good Astrometry')\n",
    "\n",
    "plt.hist2d(table['g-r'][clean&goodpar], table['g_abs'][clean&goodpar], bins = 100, \n",
    "           norm = matplotlib.colors.LogNorm(),\n",
    "          cmap = 'magma');\n",
    "\n",
    "cmap = plt.cm.magma\n",
    "custom_lines = [Line2D([0], [0], color = 'gray', linestyle = 'none', marker = 'o', lw = 3, alpha = 0.5), \n",
    "                Line2D([0], [0], color = cmap(0.75), linestyle = 'none', marker = 's', lw = 3)]\n",
    "\n",
    "plt.legend(custom_lines, ['Unreliable Parallax', 'Reliable Parallax'], loc = 1, fontsize = 18)\n",
    "\n",
    "cbar = plt.colorbar()\n",
    "cbar.ax.set_ylabel('# of stars')\n",
    "\n",
    "plt.gca().invert_yaxis()\n",
    "plt.ylim(16.5, 0)\n",
    "plt.xlim(-0.65, 1.25)\n",
    "\n",
    "plt.xlabel('g $-$ r [mag]')\n",
    "plt.ylabel('$\\mathrm{M_g}$ [mag]')\n",
    "\n",
    "plt.savefig('fig/cmd.pdf', bbox_inches = 'tight')"
   ]
  },
  {
   "cell_type": "markdown",
   "metadata": {},
   "source": [
    "#### Get Data"
   ]
  },
  {
   "cell_type": "raw",
   "metadata": {},
   "source": [
    "table = Table.read('tables/old_xmatch.fits')\n",
    "print(len(table))\n",
    "table['g_abs'] = table['g'] + 5 + 5*np.log10(table['parallax']/1000)\n",
    "table['g-r'] = table['g'] - table['r']\n",
    "\n",
    "clean = (\n",
    "    (table['g_abs'] < 20)&\n",
    "    (table['g-r'] < 2)&\n",
    "    (table['g-r'] > -1)&\n",
    "    (table['g_abs'] > -5)&\n",
    "    #(table['visibility_periods_used'] > 8)&\n",
    "    #(table['astrometric_sigma5d_max'] < 1.)&\n",
    "    (table['sg'] < 0.5) &\n",
    "    (table['sr'] < 0.5) &\n",
    "    (table['g'] - table['r'] != 0.0)\n",
    "    #(table['parallax_over_error'] > 10)&\n",
    ")\n",
    "\n",
    "table = table[clean]\n",
    "print(len(table))"
   ]
  },
  {
   "cell_type": "raw",
   "metadata": {},
   "source": [
    "plt.scatter(table['g-r'], table['g_abs'], s = 5)"
   ]
  },
  {
   "cell_type": "raw",
   "metadata": {},
   "source": [
    "anysda = ['sdA' in i for i in table['ty']]\n",
    "wd = ['DA' == i for i in table['ty']]\n",
    "color_cut_low = 0\n",
    "color_cut_high = 1.2\n",
    "\n",
    "cool = (table['g-r'] < color_cut_high) * (table['g-r'] > color_cut_low)\n",
    "\n",
    "print(sum(anysda*cool))\n",
    "print(sum(wd*cool))"
   ]
  },
  {
   "cell_type": "raw",
   "metadata": {},
   "source": [
    "table = table[(np.asarray(anysda) + np.asarray(wd)) * np.asarray(cool)]\n",
    "goodpar = (table['parallax_over_error'] > 10)\n",
    "print(sum(goodpar))\n",
    "len(table)"
   ]
  },
  {
   "cell_type": "markdown",
   "metadata": {},
   "source": [
    "#### De-reddening"
   ]
  },
  {
   "cell_type": "raw",
   "metadata": {},
   "source": [
    "import os\n",
    "sys.path.append('/usr/local/lib/python3.7/site-packages/mwdust-1.2.dev0-py3.7-macosx-10.15-x86_64.egg')\n",
    "os.environ['DUST_DIR'] = '/Users/vedantchandra/mwdust/dustfiles/'"
   ]
  },
  {
   "cell_type": "raw",
   "metadata": {},
   "source": [
    "import mwdust\n",
    "\n",
    "combined_u = mwdust.Green19(filter = 'SDSS u')\n",
    "combined_g = mwdust.Green19(filter = 'SDSS g')\n",
    "combined_r = mwdust.Green19(filter = 'SDSS r')\n",
    "combined_i = mwdust.Green19(filter = 'SDSS i')\n",
    "combined_z = mwdust.Green19(filter = 'SDSS z')"
   ]
  },
  {
   "cell_type": "raw",
   "metadata": {},
   "source": [
    "table['g-r_0'] = table['g-r']\n",
    "table['r_est'] = 1000 / table['parallax']\n",
    "\n",
    "table['u_0'] = table['u']\n",
    "table['g_0'] = table['g']\n",
    "table['r_0'] = table['r']\n",
    "table['i_0'] = table['i']\n",
    "table['z_0'] = table['z']\n",
    "\n",
    "\n",
    "for obj in tqdm(table):\n",
    "    \n",
    "    try:\n",
    "        ebv_u = combined_u(obj['l'], obj['b'], obj['r_est'])[0]    \n",
    "        ebv_g = combined_g(obj['l'], obj['b'], obj['r_est'])[0]\n",
    "        ebv_r = combined_r(obj['l'], obj['b'], obj['r_est'])[0]\n",
    "        ebv_i = combined_i(obj['l'], obj['b'], obj['r_est'])[0]    \n",
    "        ebv_z = combined_z(obj['l'], obj['b'], obj['r_est'])[0]\n",
    "        \n",
    "        \n",
    "        obj['g-r_0'] = (obj['g'] - ebv_g) - (obj['r'] - ebv_r)\n",
    "        \n",
    "        obj['u_0'] = (obj['u'] - ebv_u)\n",
    "        obj['g_0'] = (obj['g'] - ebv_g)\n",
    "        obj['r_0'] = (obj['r'] - ebv_r)\n",
    "        obj['i_0'] = (obj['i'] - ebv_i)\n",
    "        obj['z_0'] = (obj['z'] - ebv_z)\n",
    "\n",
    "        \n",
    "    except:\n",
    "        print('correction failed')\n",
    "        continue"
   ]
  },
  {
   "cell_type": "raw",
   "metadata": {},
   "source": [
    "table.write('tables/xmatch_dereddened.fits')"
   ]
  },
  {
   "cell_type": "markdown",
   "metadata": {},
   "source": [
    "#### Get Balmer Parameters"
   ]
  },
  {
   "cell_type": "raw",
   "metadata": {},
   "source": [
    "table = Table.read('tables/xmatch_dereddened.fits')\n",
    "\n",
    "goodpar = (table['parallax_over_error'] > 10) * (table['visibility_periods_used'] > 8) *\\\n",
    "                (table['astrometric_sigma5d_max'] < 1.)\n",
    "anysda = ['sdA' in i for i in table['ty']]\n",
    "wd = ['DA' == i for i in table['ty']]\n",
    "\n",
    "len(table)"
   ]
  },
  {
   "cell_type": "raw",
   "metadata": {},
   "source": [
    "len(table[goodpar])"
   ]
  },
  {
   "cell_type": "code",
   "execution_count": 2,
   "metadata": {},
   "outputs": [],
   "source": [
    "def get_spectrum(source_id):\n",
    "    path = '../../spec/'+str(source_id)+'_spec_0.fits'\n",
    "    try:\n",
    "        with fits.open(path) as f:\n",
    "            flux = f[1].data['flux']\n",
    "            loglam = f[1].data['loglam']\n",
    "            fluxsig = f[1].data['ivar']\n",
    "            lam = 10**loglam\n",
    "            f.close()\n",
    "    except KeyboardInterrupt:\n",
    "        raise\n",
    "    except:\n",
    "        #raise FileNotFoundError('Spectrum file missing...')\n",
    "        return np.nan, np.nan\n",
    "    ## RV Correction and Interpolation\n",
    "    \n",
    "    return lam, flux"
   ]
  },
  {
   "cell_type": "raw",
   "metadata": {},
   "source": [
    "lp = wdtools.LineProfiles()\n",
    "\n",
    "param_df = pd.DataFrame();\n",
    "\n",
    "for obj in tqdm(table):\n",
    "    wl, fl = get_spectrum(obj['source_id'])\n",
    "    row = lp.fit_balmer(wl, fl, make_plot = False)\n",
    "    param_df = param_df.append(row, ignore_index = True)\n",
    "\n",
    "param_df.to_pickle('tables/pdf.p')"
   ]
  },
  {
   "cell_type": "raw",
   "metadata": {},
   "source": [
    "np.sum(np.isnan(param_df['a_amp'])) / len(param_df)"
   ]
  },
  {
   "cell_type": "markdown",
   "metadata": {},
   "source": [
    "# Load Data"
   ]
  },
  {
   "cell_type": "code",
   "execution_count": 3,
   "metadata": {},
   "outputs": [
    {
     "name": "stdout",
     "output_type": "stream",
     "text": [
      "14522\n",
      "1807\n"
     ]
    },
    {
     "name": "stderr",
     "output_type": "stream",
     "text": [
      "/Users/vedantchandra/opt/anaconda3/envs/metalpoor/lib/python3.6/site-packages/astropy/table/column.py:1020: RuntimeWarning: invalid value encountered in greater\n",
      "  result = getattr(super(), op)(other)\n"
     ]
    }
   ],
   "source": [
    "table = Table.read('tables/xmatch_dereddened.fits')\n",
    "\n",
    "goodpar = (table['parallax_over_error'] > 10) * (table['visibility_periods_used'] > 8) *\\\n",
    "                (table['astrometric_sigma5d_max'] < 1.)\n",
    "anysda = ['sdA' in i for i in table['ty']]\n",
    "wd = ['DA' == i for i in table['ty']]\n",
    "\n",
    "print(len(table))\n",
    "print(len(table[goodpar]))"
   ]
  },
  {
   "cell_type": "code",
   "execution_count": null,
   "metadata": {},
   "outputs": [],
   "source": []
  },
  {
   "cell_type": "code",
   "execution_count": 4,
   "metadata": {},
   "outputs": [
    {
     "name": "stdout",
     "output_type": "stream",
     "text": [
      "[17.22844 16.37988 16.1406  16.10408 16.08948]\n"
     ]
    },
    {
     "data": {
      "text/plain": [
       "[<matplotlib.lines.Line2D at 0x7fd84f2c5160>]"
      ]
     },
     "execution_count": 4,
     "metadata": {},
     "output_type": "execute_result"
    },
    {
     "data": {
      "image/png": "[encoded data removed]",
      "text/plain": [
       "<Figure size 432x288 with 1 Axes>"
      ]
     },
     "metadata": {
      "needs_background": "light"
     },
     "output_type": "display_data"
    }
   ],
   "source": [
    "mp = 75\n",
    "\n",
    "phot = (np.array([table[goodpar*anysda][mp]['u_0'], table[goodpar*anysda][mp]['g_0'], \n",
    "                   table[goodpar*anysda][mp]['r_0'], table[goodpar*anysda][mp]['i_0'], table[goodpar*anysda][mp]['z_0']]))\n",
    "\n",
    "print(phot)\n",
    "\n",
    "wl, fl = get_spectrum(table[goodpar*anysda][mp]['source_id'])\n",
    "plt.plot(wl, fl)"
   ]
  },
  {
   "cell_type": "code",
   "execution_count": 5,
   "metadata": {},
   "outputs": [],
   "source": [
    "spec = np.vstack((wl, fl))\n",
    "np.savetxt('../test_data/mpms_spec.txt', spec)\n",
    "np.savetxt('../test_data/mpms_phot.txt', phot)"
   ]
  },
  {
   "cell_type": "code",
   "execution_count": 6,
   "metadata": {},
   "outputs": [
    {
     "name": "stdout",
     "output_type": "stream",
     "text": [
      "[18.54944 18.16488 18.1096  18.16808 18.31548]\n"
     ]
    },
    {
     "data": {
      "text/plain": [
       "[<matplotlib.lines.Line2D at 0x7fd84fe0f9b0>]"
      ]
     },
     "execution_count": 6,
     "metadata": {},
     "output_type": "execute_result"
    },
    {
     "data": {
      "image/png": "[encoded data removed]",
      "text/plain": [
       "<Figure size 432x288 with 1 Axes>"
      ]
     },
     "metadata": {
      "needs_background": "light"
     },
     "output_type": "display_data"
    }
   ],
   "source": [
    "wdi = 31 ## use 26\n",
    "\n",
    "phot = np.array([table[goodpar*wd][wdi]['u_0'], table[goodpar*wd][wdi]['g_0'], \n",
    "                   table[goodpar*wd][wdi]['r_0'], table[goodpar*wd][wdi]['i_0'], table[goodpar*wd][wdi]['z_0']])\n",
    "print(phot)\n",
    "\n",
    "wl, fl = get_spectrum(table[goodpar*wd][wdi]['source_id'])\n",
    "\n",
    "plt.plot(wl, fl)"
   ]
  },
  {
   "cell_type": "code",
   "execution_count": 7,
   "metadata": {},
   "outputs": [],
   "source": [
    "spec = np.vstack((wl, fl))\n",
    "np.savetxt('../test_data/wd_spec.txt', spec)\n",
    "np.savetxt('../test_data/wd_phot.txt', phot)"
   ]
  },
  {
   "cell_type": "code",
   "execution_count": 8,
   "metadata": {},
   "outputs": [
    {
     "data": {
      "text/plain": [
       "3797635273107252096"
      ]
     },
     "execution_count": 8,
     "metadata": {},
     "output_type": "execute_result"
    }
   ],
   "source": [
    "table[goodpar][1]['source_id']"
   ]
  },
  {
   "cell_type": "code",
   "execution_count": 9,
   "metadata": {},
   "outputs": [
    {
     "data": {
      "text/plain": [
       "0.659103486441616"
      ]
     },
     "execution_count": 9,
     "metadata": {},
     "output_type": "execute_result"
    }
   ],
   "source": [
    "len(table[goodpar*wd]) / len(table[goodpar])"
   ]
  },
  {
   "cell_type": "code",
   "execution_count": 10,
   "metadata": {},
   "outputs": [
    {
     "data": {
      "text/plain": [
       "0.3408965135583841"
      ]
     },
     "execution_count": 10,
     "metadata": {},
     "output_type": "execute_result"
    }
   ],
   "source": [
    "len(table[goodpar*anysda]) / len(table[goodpar])"
   ]
  },
  {
   "cell_type": "code",
   "execution_count": 11,
   "metadata": {},
   "outputs": [],
   "source": [
    "param_df = pd.read_pickle('tables/pdf.p')"
   ]
  },
  {
   "cell_type": "code",
   "execution_count": 21,
   "metadata": {},
   "outputs": [],
   "source": [
    "pure_sda = (table['ty'] == 'sdA/F') | (table['ty'] == 'DA') | (table['ty'] == 'sdA')\n",
    "\n",
    "pdf = param_df\n",
    "\n",
    "clean = (\n",
    "    (pdf['a_fwhm'] < 75)&\n",
    "    (pdf['d_fwhm'] < 75)&\n",
    "    (pdf['g_fwhm'] < 75)&\n",
    "    (pdf['b_fwhm'] < 75)&\n",
    "    (pdf['a_height'] < 1)&\n",
    "    (pdf['b_height'] < 1)&\n",
    "    (pdf['g_height'] < 1)&\n",
    "    (pdf['d_height'] < 1)\n",
    ") & goodpar & pure_sda\n",
    "\n",
    "wd = np.asarray(wd)\n",
    "\n",
    "#cleantable = table\n",
    "cleantable = table[np.asarray(clean)]\n",
    "\n",
    "phot_X = np.array([cleantable['u_0'], cleantable['g_0'], \n",
    "                   cleantable['r_0'], cleantable['i_0'], cleantable['z_0']]).T\n",
    "raw_phot = phot_X\n",
    "\n",
    "colors = [];\n",
    "ncols = phot_X.shape[1]\n",
    "for i in range(ncols):\n",
    "    for j in np.arange(i+1, ncols):\n",
    "        colors.append(phot_X[:, i] - phot_X[:, j])\n",
    "phot_X = np.array(colors).T\n",
    "\n",
    "phot_X_griz = np.array([cleantable['g_0'], cleantable['r_0'], cleantable['i_0'], cleantable['z_0']]).T\n",
    "\n",
    "colors = [];\n",
    "ncols = phot_X_griz.shape[1]\n",
    "for i in range(ncols):\n",
    "    for j in np.arange(i+1, ncols):\n",
    "        colors.append(phot_X_griz[:, i] - phot_X_griz[:, j])\n",
    "phot_X_griz = np.array(colors).T\n",
    "\n",
    "\n",
    "spec_features = ['a_fwhm', 'a_height',\n",
    "       'b_fwhm', 'b_height',\n",
    "       'g_fwhm', 'g_height',\n",
    "         'd_fwhm', 'd_height']\n",
    "\n",
    "spec_X = pdf[clean][spec_features]\n",
    "labels = np.zeros(len(wd))\n",
    "labels[anysda] = 1\n",
    "t = labels[clean]\n",
    "\n",
    "X_combined = np.hstack((phot_X, spec_X))"
   ]
  },
  {
   "cell_type": "code",
   "execution_count": 22,
   "metadata": {},
   "outputs": [],
   "source": [
    "all_features = ['u', 'g', 'r', 'i', 'z']\n",
    "all_features.extend(spec_features)\n",
    "\n",
    "dd_grid = pd.DataFrame(np.hstack((raw_phot, spec_X)), columns = all_features)"
   ]
  },
  {
   "cell_type": "code",
   "execution_count": 23,
   "metadata": {},
   "outputs": [],
   "source": [
    "dd_grid['is_mpms'] = t.astype(int)"
   ]
  },
  {
   "cell_type": "code",
   "execution_count": 24,
   "metadata": {},
   "outputs": [],
   "source": [
    "dd_grid.to_csv('../dd_grid.csv')"
   ]
  },
  {
   "cell_type": "code",
   "execution_count": 25,
   "metadata": {},
   "outputs": [
    {
     "data": {
      "text/html": [
       "<div>\n",
       "<style scoped>\n",
       "    .dataframe tbody tr th:only-of-type {\n",
       "        vertical-align: middle;\n",
       "    }\n",
       "\n",
       "    .dataframe tbody tr th {\n",
       "        vertical-align: top;\n",
       "    }\n",
       "\n",
       "    .dataframe thead th {\n",
       "        text-align: right;\n",
       "    }\n",
       "</style>\n",
       "<table border=\"1\" class=\"dataframe\">\n",
       "  <thead>\n",
       "    <tr style=\"text-align: right;\">\n",
       "      <th></th>\n",
       "      <th>u</th>\n",
       "      <th>g</th>\n",
       "      <th>r</th>\n",
       "      <th>i</th>\n",
       "      <th>z</th>\n",
       "      <th>a_fwhm</th>\n",
       "      <th>a_height</th>\n",
       "      <th>b_fwhm</th>\n",
       "      <th>b_height</th>\n",
       "      <th>g_fwhm</th>\n",
       "      <th>g_height</th>\n",
       "      <th>d_fwhm</th>\n",
       "      <th>d_height</th>\n",
       "      <th>is_mpms</th>\n",
       "    </tr>\n",
       "  </thead>\n",
       "  <tbody>\n",
       "    <tr>\n",
       "      <th>0</th>\n",
       "      <td>18.91449</td>\n",
       "      <td>18.63373</td>\n",
       "      <td>18.71035</td>\n",
       "      <td>18.89118</td>\n",
       "      <td>19.06933</td>\n",
       "      <td>63.615599</td>\n",
       "      <td>0.375522</td>\n",
       "      <td>42.746607</td>\n",
       "      <td>0.477282</td>\n",
       "      <td>30.499026</td>\n",
       "      <td>0.566023</td>\n",
       "      <td>25.617476</td>\n",
       "      <td>0.520525</td>\n",
       "      <td>0</td>\n",
       "    </tr>\n",
       "    <tr>\n",
       "      <th>1</th>\n",
       "      <td>16.18600</td>\n",
       "      <td>15.28400</td>\n",
       "      <td>15.12000</td>\n",
       "      <td>15.11500</td>\n",
       "      <td>15.12900</td>\n",
       "      <td>12.135270</td>\n",
       "      <td>0.389924</td>\n",
       "      <td>11.740363</td>\n",
       "      <td>0.455176</td>\n",
       "      <td>11.050991</td>\n",
       "      <td>0.491845</td>\n",
       "      <td>12.799737</td>\n",
       "      <td>0.496965</td>\n",
       "      <td>1</td>\n",
       "    </tr>\n",
       "    <tr>\n",
       "      <th>2</th>\n",
       "      <td>19.66900</td>\n",
       "      <td>19.12900</td>\n",
       "      <td>18.94300</td>\n",
       "      <td>18.92500</td>\n",
       "      <td>18.89700</td>\n",
       "      <td>27.481479</td>\n",
       "      <td>0.370908</td>\n",
       "      <td>7.332038</td>\n",
       "      <td>0.420667</td>\n",
       "      <td>6.212082</td>\n",
       "      <td>0.563779</td>\n",
       "      <td>7.833827</td>\n",
       "      <td>0.355244</td>\n",
       "      <td>0</td>\n",
       "    </tr>\n",
       "    <tr>\n",
       "      <th>3</th>\n",
       "      <td>15.64200</td>\n",
       "      <td>14.66500</td>\n",
       "      <td>14.43100</td>\n",
       "      <td>14.32900</td>\n",
       "      <td>14.36100</td>\n",
       "      <td>7.658818</td>\n",
       "      <td>0.407160</td>\n",
       "      <td>9.059110</td>\n",
       "      <td>0.443140</td>\n",
       "      <td>7.756302</td>\n",
       "      <td>0.469873</td>\n",
       "      <td>8.848705</td>\n",
       "      <td>0.474437</td>\n",
       "      <td>1</td>\n",
       "    </tr>\n",
       "    <tr>\n",
       "      <th>4</th>\n",
       "      <td>18.93400</td>\n",
       "      <td>18.51200</td>\n",
       "      <td>18.43700</td>\n",
       "      <td>18.44000</td>\n",
       "      <td>18.53500</td>\n",
       "      <td>36.068392</td>\n",
       "      <td>0.274085</td>\n",
       "      <td>18.210260</td>\n",
       "      <td>0.301266</td>\n",
       "      <td>18.447287</td>\n",
       "      <td>0.359922</td>\n",
       "      <td>12.853983</td>\n",
       "      <td>0.365384</td>\n",
       "      <td>0</td>\n",
       "    </tr>\n",
       "    <tr>\n",
       "      <th>...</th>\n",
       "      <td>...</td>\n",
       "      <td>...</td>\n",
       "      <td>...</td>\n",
       "      <td>...</td>\n",
       "      <td>...</td>\n",
       "      <td>...</td>\n",
       "      <td>...</td>\n",
       "      <td>...</td>\n",
       "      <td>...</td>\n",
       "      <td>...</td>\n",
       "      <td>...</td>\n",
       "      <td>...</td>\n",
       "      <td>...</td>\n",
       "      <td>...</td>\n",
       "    </tr>\n",
       "    <tr>\n",
       "      <th>1692</th>\n",
       "      <td>18.78400</td>\n",
       "      <td>18.42000</td>\n",
       "      <td>18.36800</td>\n",
       "      <td>18.40100</td>\n",
       "      <td>18.46200</td>\n",
       "      <td>28.997769</td>\n",
       "      <td>0.432152</td>\n",
       "      <td>21.716151</td>\n",
       "      <td>0.449911</td>\n",
       "      <td>15.009310</td>\n",
       "      <td>0.527559</td>\n",
       "      <td>18.512759</td>\n",
       "      <td>0.378136</td>\n",
       "      <td>0</td>\n",
       "    </tr>\n",
       "    <tr>\n",
       "      <th>1693</th>\n",
       "      <td>18.00300</td>\n",
       "      <td>17.61600</td>\n",
       "      <td>17.59700</td>\n",
       "      <td>17.64900</td>\n",
       "      <td>17.79500</td>\n",
       "      <td>30.726231</td>\n",
       "      <td>0.451661</td>\n",
       "      <td>23.894909</td>\n",
       "      <td>0.510891</td>\n",
       "      <td>18.631708</td>\n",
       "      <td>0.516738</td>\n",
       "      <td>19.154556</td>\n",
       "      <td>0.472451</td>\n",
       "      <td>0</td>\n",
       "    </tr>\n",
       "    <tr>\n",
       "      <th>1694</th>\n",
       "      <td>18.80900</td>\n",
       "      <td>18.36900</td>\n",
       "      <td>18.31700</td>\n",
       "      <td>18.35500</td>\n",
       "      <td>18.43800</td>\n",
       "      <td>21.965562</td>\n",
       "      <td>0.529121</td>\n",
       "      <td>15.920101</td>\n",
       "      <td>0.502238</td>\n",
       "      <td>17.115929</td>\n",
       "      <td>0.426385</td>\n",
       "      <td>14.339056</td>\n",
       "      <td>0.488606</td>\n",
       "      <td>0</td>\n",
       "    </tr>\n",
       "    <tr>\n",
       "      <th>1695</th>\n",
       "      <td>19.01288</td>\n",
       "      <td>18.69476</td>\n",
       "      <td>18.68420</td>\n",
       "      <td>18.77116</td>\n",
       "      <td>18.98796</td>\n",
       "      <td>30.139118</td>\n",
       "      <td>0.419654</td>\n",
       "      <td>15.077513</td>\n",
       "      <td>0.539753</td>\n",
       "      <td>13.654690</td>\n",
       "      <td>0.524207</td>\n",
       "      <td>13.649188</td>\n",
       "      <td>0.452910</td>\n",
       "      <td>0</td>\n",
       "    </tr>\n",
       "    <tr>\n",
       "      <th>1696</th>\n",
       "      <td>18.54500</td>\n",
       "      <td>18.20800</td>\n",
       "      <td>18.20300</td>\n",
       "      <td>18.27100</td>\n",
       "      <td>18.41900</td>\n",
       "      <td>44.600475</td>\n",
       "      <td>0.393935</td>\n",
       "      <td>30.158636</td>\n",
       "      <td>0.470307</td>\n",
       "      <td>22.662879</td>\n",
       "      <td>0.522684</td>\n",
       "      <td>26.207246</td>\n",
       "      <td>0.460637</td>\n",
       "      <td>0</td>\n",
       "    </tr>\n",
       "  </tbody>\n",
       "</table>\n",
       "<p>1697 rows × 14 columns</p>\n",
       "</div>"
      ],
      "text/plain": [
       "             u         g         r         i         z     a_fwhm  a_height  \\\n",
       "0     18.91449  18.63373  18.71035  18.89118  19.06933  63.615599  0.375522   \n",
       "1     16.18600  15.28400  15.12000  15.11500  15.12900  12.135270  0.389924   \n",
       "2     19.66900  19.12900  18.94300  18.92500  18.89700  27.481479  0.370908   \n",
       "3     15.64200  14.66500  14.43100  14.32900  14.36100   7.658818  0.407160   \n",
       "4     18.93400  18.51200  18.43700  18.44000  18.53500  36.068392  0.274085   \n",
       "...        ...       ...       ...       ...       ...        ...       ...   \n",
       "1692  18.78400  18.42000  18.36800  18.40100  18.46200  28.997769  0.432152   \n",
       "1693  18.00300  17.61600  17.59700  17.64900  17.79500  30.726231  0.451661   \n",
       "1694  18.80900  18.36900  18.31700  18.35500  18.43800  21.965562  0.529121   \n",
       "1695  19.01288  18.69476  18.68420  18.77116  18.98796  30.139118  0.419654   \n",
       "1696  18.54500  18.20800  18.20300  18.27100  18.41900  44.600475  0.393935   \n",
       "\n",
       "         b_fwhm  b_height     g_fwhm  g_height     d_fwhm  d_height  is_mpms  \n",
       "0     42.746607  0.477282  30.499026  0.566023  25.617476  0.520525        0  \n",
       "1     11.740363  0.455176  11.050991  0.491845  12.799737  0.496965        1  \n",
       "2      7.332038  0.420667   6.212082  0.563779   7.833827  0.355244        0  \n",
       "3      9.059110  0.443140   7.756302  0.469873   8.848705  0.474437        1  \n",
       "4     18.210260  0.301266  18.447287  0.359922  12.853983  0.365384        0  \n",
       "...         ...       ...        ...       ...        ...       ...      ...  \n",
       "1692  21.716151  0.449911  15.009310  0.527559  18.512759  0.378136        0  \n",
       "1693  23.894909  0.510891  18.631708  0.516738  19.154556  0.472451        0  \n",
       "1694  15.920101  0.502238  17.115929  0.426385  14.339056  0.488606        0  \n",
       "1695  15.077513  0.539753  13.654690  0.524207  13.649188  0.452910        0  \n",
       "1696  30.158636  0.470307  22.662879  0.522684  26.207246  0.460637        0  \n",
       "\n",
       "[1697 rows x 14 columns]"
      ]
     },
     "execution_count": 25,
     "metadata": {},
     "output_type": "execute_result"
    }
   ],
   "source": [
    "dd_grid"
   ]
  },
  {
   "cell_type": "markdown",
   "metadata": {},
   "source": [
    "## Get Classifiers"
   ]
  },
  {
   "cell_type": "code",
   "execution_count": 26,
   "metadata": {},
   "outputs": [],
   "source": [
    "from sklearn.metrics import roc_curve, auc, confusion_matrix,precision_recall_curve, average_precision_score\n",
    "\n",
    "lr_spec = pickle.load(open('LR/spec_lr.p', 'rb'))\n",
    "lr_phot = pickle.load(open('LR/phot_lr.p', 'rb'))\n",
    "lr_phot_griz = pickle.load(open('LR/phot_lr_griz.p', 'rb'))\n",
    "lr_combined = pickle.load(open('LR/combined.p', 'rb'))"
   ]
  },
  {
   "cell_type": "code",
   "execution_count": 27,
   "metadata": {},
   "outputs": [],
   "source": [
    "prob_spec = lr_spec.predict_proba(spec_X)[:, 1]\n",
    "prob_phot = lr_phot.predict_proba(phot_X)[:, 1]\n",
    "prob_phot_griz = lr_phot_griz.predict_proba(phot_X_griz)[:, 1]\n",
    "prob_combined = lr_combined.predict_proba(X_combined)[:, 1]\n",
    "\n",
    "spec_fpr, spec_tpr, _ = roc_curve(t, prob_spec)\n",
    "phot_fpr, phot_tpr, _ = roc_curve(t, prob_phot)\n",
    "griz_fpr, griz_tpr, _, = roc_curve(t, prob_phot_griz)\n",
    "\n",
    "combined_fpr, combined_tpr, _ = roc_curve(t, prob_combined)"
   ]
  },
  {
   "cell_type": "markdown",
   "metadata": {},
   "source": [
    "## ROC Curve"
   ]
  },
  {
   "cell_type": "code",
   "execution_count": 29,
   "metadata": {},
   "outputs": [
    {
     "data": {
      "image/png": "[encoded data removed]",
      "text/plain": [
       "<Figure size 576x576 with 1 Axes>"
      ]
     },
     "metadata": {
      "needs_background": "light"
     },
     "output_type": "display_data"
    }
   ],
   "source": [
    "plt.rcParams.update({'font.size': 17})\n",
    "\n",
    "plt.figure(figsize = (8,8))\n",
    "c1 = 'C0'\n",
    "c2 = 'C1'\n",
    "c3 = 'C2'\n",
    "c4 = 'C3'\n",
    "\n",
    "plt.plot(spec_fpr, spec_tpr, label = 'Balmer', color = c1, linestyle = '--', linewidth = 3)\n",
    "plt.plot(phot_fpr, phot_tpr, label = 'ugriz', color = c2, linestyle = ':', linewidth = 3)\n",
    "plt.plot(griz_fpr, griz_tpr, label = 'griz', color = c3, linestyle = ':', linewidth = 3)\n",
    "plt.plot(combined_fpr, combined_tpr, label = 'Balmer & ugriz', color = c4, linestyle = '-.', linewidth = 3.5)\n",
    "\n",
    "x = np.linspace(0, 1, 100)\n",
    "plt.plot(x, x, linestyle = '--', color = 'k', label = 'Random Choice')\n",
    "\n",
    "plt.xlabel('False Positive Rate')\n",
    "plt.ylabel('True Positive Rate')\n",
    "\n",
    "vdist = 0\n",
    "plt.text(0.85, 0.6+vdist, r'$\\bf{AUC}$', transform = plt.gca().transAxes)\n",
    "plt.text(0.85, 0.55+vdist, '%.2f' % auc(griz_fpr, griz_tpr), transform = plt.gca().transAxes, color = c3)\n",
    "plt.text(0.85, 0.5+vdist, '%.2f' % auc(phot_fpr, phot_tpr), transform = plt.gca().transAxes, color = c2)\n",
    "plt.text(0.85, 0.45+vdist, '%.2f' % auc(spec_fpr, spec_tpr), transform = plt.gca().transAxes, color = c1)\n",
    "plt.text(0.85, 0.4+vdist, '%.2f' % auc(combined_fpr, combined_tpr), transform = plt.gca().transAxes, color = c4)\n",
    "\n",
    "perf_x = [0, 0, 1]\n",
    "perf_y = [0, 1, 1]\n",
    "\n",
    "#plt.plot(perf_x, perf_y, color = 'k', label = 'Perfect Classifier')\n",
    "\n",
    "plt.legend()\n",
    "\n",
    "plt.savefig('fig/lr_auc.pdf', bbox_inches = 'tight')"
   ]
  },
  {
   "cell_type": "markdown",
   "metadata": {},
   "source": [
    "## PR Curve"
   ]
  },
  {
   "cell_type": "code",
   "execution_count": 30,
   "metadata": {},
   "outputs": [],
   "source": [
    "spec_precision, spec_recall, _ = precision_recall_curve(t, prob_spec)\n",
    "phot_precision, phot_recall, _ = precision_recall_curve(t, prob_phot)\n",
    "griz_precision, griz_recall, _ = precision_recall_curve(t, prob_phot_griz)\n",
    "\n",
    "combined_precision, combined_recall, combined_thresh = precision_recall_curve(t, prob_combined)"
   ]
  },
  {
   "cell_type": "code",
   "execution_count": 31,
   "metadata": {},
   "outputs": [
    {
     "data": {
      "image/png": "[encoded data removed]",
      "text/plain": [
       "<Figure size 576x576 with 1 Axes>"
      ]
     },
     "metadata": {
      "needs_background": "light"
     },
     "output_type": "display_data"
    }
   ],
   "source": [
    "plt.rcParams.update({'font.size': 17})\n",
    "\n",
    "plt.figure(figsize = (8,8))\n",
    "\n",
    "plt.plot(spec_recall, spec_precision, label = 'Balmer', color = c1, linestyle = '--', linewidth = 3)\n",
    "plt.plot(phot_recall, phot_precision, label = 'ugriz', color = c2, linestyle = ':', linewidth = 3)\n",
    "plt.plot(griz_recall, griz_precision, label = 'griz', color = c3, linestyle = ':', linewidth = 3)\n",
    "plt.plot(combined_recall, combined_precision, \n",
    "         label = 'Balmer & ugriz', color = c4, linestyle = '-.', linewidth = 3.5)\n",
    "\n",
    "plt.xlabel('Recall')\n",
    "plt.ylabel('Precision')\n",
    "\n",
    "vdist = 0.07\n",
    "plt.text(0.4, 0.2+vdist, r'$\\bf{AUC}$', transform = plt.gca().transAxes)\n",
    "plt.text(0.4, 0.15+vdist, '%.2f' % auc(griz_recall, griz_precision), transform = plt.gca().transAxes, color = c3)\n",
    "plt.text(0.4, 0.1+vdist, '%.2f' % auc(phot_recall, phot_precision), transform = plt.gca().transAxes, color = c2)\n",
    "plt.text(0.4, 0.05+vdist, '%.2f' % auc(spec_recall, spec_precision), transform = plt.gca().transAxes, color = c1)\n",
    "plt.text(0.4, 0.0+vdist, '%.2f' % auc(combined_recall, combined_precision), \n",
    "         transform = plt.gca().transAxes, color = c4)\n",
    "\n",
    "ratio = sum(t) / len(t)\n",
    "plt.axhline(ratio, color = 'k', linestyle = '--', label = 'Random Choice')\n",
    "\n",
    "plt.legend(loc = 4, framealpha = 1)\n",
    "\n",
    "plt.savefig('fig/lr_pr.pdf', bbox_inches = 'tight')"
   ]
  },
  {
   "cell_type": "markdown",
   "metadata": {},
   "source": [
    "## Apply to all stars and write classifications"
   ]
  },
  {
   "cell_type": "code",
   "execution_count": 32,
   "metadata": {},
   "outputs": [
    {
     "data": {
      "text/plain": [
       "13378"
      ]
     },
     "execution_count": 32,
     "metadata": {},
     "output_type": "execute_result"
    }
   ],
   "source": [
    "clean = (\n",
    "    (pdf['a_fwhm'] < 100)&\n",
    "    (pdf['d_fwhm'] < 100)&\n",
    "    (pdf['g_fwhm'] < 100)&\n",
    "    (pdf['b_fwhm'] < 100)&\n",
    "    (pdf['a_height'] < 1)&\n",
    "    (pdf['b_height'] < 1)&\n",
    "    (pdf['g_height'] < 1)&\n",
    "    (pdf['d_height'] < 1)\n",
    ") & pure_sda\n",
    "\n",
    "sum(clean)"
   ]
  },
  {
   "cell_type": "code",
   "execution_count": 36,
   "metadata": {},
   "outputs": [],
   "source": [
    "cleantable = table[np.asarray(clean)]\n",
    "\n",
    "phot_X = np.array([cleantable['u_0'], cleantable['g_0'], cleantable['r_0'], \n",
    "                   cleantable['i_0'], cleantable['z_0']]).T\n",
    "\n",
    "\n",
    "colors = [];\n",
    "ncols = phot_X.shape[1]\n",
    "for i in range(ncols):\n",
    "    for j in np.arange(i+1, ncols):\n",
    "        colors.append(phot_X[:, i] - phot_X[:, j])\n",
    "phot_X = np.array(colors).T\n",
    "\n",
    "spec_X = pdf[clean][spec_features]\n",
    "\n",
    "combined_X = np.hstack((phot_X, spec_X))\n",
    "\n",
    "labels = np.zeros(len(wd))\n",
    "labels[anysda] = 1\n",
    "t = labels[clean]"
   ]
  },
  {
   "cell_type": "code",
   "execution_count": 37,
   "metadata": {},
   "outputs": [],
   "source": [
    "prob_phot = lr_phot.predict_proba(phot_X)[:, 1]\n",
    "prob_spec = lr_spec.predict_proba(spec_X)[:, 1]\n",
    "prob_combined = lr_combined.predict_proba(combined_X)[:, 1]\n",
    "\n",
    "cleantable['p_phot'] = prob_phot\n",
    "cleantable['p_spec'] = prob_spec\n",
    "cleantable['p_combined'] = prob_combined"
   ]
  },
  {
   "cell_type": "code",
   "execution_count": 38,
   "metadata": {},
   "outputs": [
    {
     "data": {
      "text/plain": [
       "0.9423680669756316"
      ]
     },
     "execution_count": 38,
     "metadata": {},
     "output_type": "execute_result"
    }
   ],
   "source": [
    "threshold = 0.5\n",
    "prediction = (prob_combined > threshold).astype(int)\n",
    "\n",
    "np.sum(prediction == t) / len(t)"
   ]
  },
  {
   "cell_type": "code",
   "execution_count": 39,
   "metadata": {},
   "outputs": [
    {
     "data": {
      "text/plain": [
       "(array([ 1926.,   272.,   166.,   106.,   111.,   118.,   112.,   152.,\n",
       "          367., 10048.]),\n",
       " array([3.03011873e-22, 1.00000000e-01, 2.00000000e-01, 3.00000000e-01,\n",
       "        4.00000000e-01, 5.00000000e-01, 6.00000000e-01, 7.00000000e-01,\n",
       "        8.00000000e-01, 9.00000000e-01, 1.00000000e+00]),\n",
       " <a list of 10 Patch objects>)"
      ]
     },
     "execution_count": 39,
     "metadata": {},
     "output_type": "execute_result"
    },
    {
     "data": {
      "image/png": "[encoded data removed]",
      "text/plain": [
       "<Figure size 432x288 with 1 Axes>"
      ]
     },
     "metadata": {
      "needs_background": "light"
     },
     "output_type": "display_data"
    }
   ],
   "source": [
    "plt.hist(prob_combined)"
   ]
  },
  {
   "cell_type": "code",
   "execution_count": 40,
   "metadata": {},
   "outputs": [
    {
     "name": "stderr",
     "output_type": "stream",
     "text": [
      "WARNING: UnitsWarning: ''electron'.s**-1' did not parse as fits unit: At col 0, Unit ''electron'' not supported by the FITS standard.  If this is meant to be a custom unit, define it with 'u.def_unit'. To have it recognized inside a file reader or other code, enable it with 'u.add_enabled_units'. For details, see http://docs.astropy.org/en/latest/units/combining_and_defining.html [astropy.units.core]\n",
      "WARNING: UnitsWarning: 'log(cm.s**-2)' did not parse as fits unit: 'log' is not a recognized function If this is meant to be a custom unit, define it with 'u.def_unit'. To have it recognized inside a file reader or other code, enable it with 'u.add_enabled_units'. For details, see http://docs.astropy.org/en/latest/units/combining_and_defining.html [astropy.units.core]\n",
      "WARNING: UnitsWarning: ''dex'' did not parse as fits unit: At col 0, Unit ''dex'' not supported by the FITS standard.  If this is meant to be a custom unit, define it with 'u.def_unit'. To have it recognized inside a file reader or other code, enable it with 'u.add_enabled_units'. For details, see http://docs.astropy.org/en/latest/units/combining_and_defining.html [astropy.units.core]\n"
     ]
    }
   ],
   "source": [
    "cleantable.write('tables/lr_class.fits', overwrite = True)"
   ]
  }
 ],
 "metadata": {
  "kernelspec": {
   "display_name": "Python [conda env:metalpoor]",
   "language": "python",
   "name": "conda-env-metalpoor-py"
  },
  "language_info": {
   "codemirror_mode": {
    "name": "ipython",
    "version": 3
   },
   "file_extension": ".py",
   "mimetype": "text/x-python",
   "name": "python",
   "nbconvert_exporter": "python",
   "pygments_lexer": "ipython3",
   "version": "3.6.10"
  }
 },
 "nbformat": 4,
 "nbformat_minor": 4
}
